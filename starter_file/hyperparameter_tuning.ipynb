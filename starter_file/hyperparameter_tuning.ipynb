{
 "cells": [
  {
   "cell_type": "markdown",
   "metadata": {},
   "source": [
    "# Hyperparameter Tuning using HyperDrive\n",
    "\n",
    "TODO: Import Dependencies. In the cell below, import all the dependencies that you will need to complete the project."
   ]
  },
  {
   "cell_type": "code",
   "execution_count": 39,
   "metadata": {
    "gather": {
     "logged": 1598531914256
    }
   },
   "outputs": [],
   "source": [
    "from azureml.core import Workspace, Experiment\n",
    "from azureml.core.compute import ComputeTarget, AmlCompute\n",
    "from azureml.core.compute_target import ComputeTargetException\n",
    "\n",
    "from azureml.train.automl import AutoMLConfig\n",
    "\n",
    "from azureml.train.hyperdrive.run import PrimaryMetricGoal\n",
    "from azureml.train.hyperdrive.policy import BanditPolicy\n",
    "from azureml.train.hyperdrive.sampling import RandomParameterSampling\n",
    "from azureml.train.hyperdrive.runconfig import HyperDriveConfig\n",
    "from azureml.train.hyperdrive.parameter_expressions import choice, uniform\n",
    "from azureml.core import Environment, ScriptRunConfig\n",
    "from azureml.core import Run\n",
    "\n",
    "import os\n",
    "import pandas as pd"
   ]
  },
  {
   "cell_type": "markdown",
   "metadata": {},
   "source": [
    "## Dataset\n",
    "\n",
    "TODO: Get data. In the cell below, write code to access the data you will be using in this project. Remember that the dataset needs to be external."
   ]
  },
  {
   "cell_type": "code",
   "execution_count": 3,
   "metadata": {
    "collapsed": false,
    "gather": {
     "logged": 1598531917374
    },
    "jupyter": {
     "outputs_hidden": false,
     "source_hidden": false
    },
    "nteract": {
     "transient": {
      "deleting": false
     }
    }
   },
   "outputs": [
    {
     "name": "stdout",
     "output_type": "stream",
     "text": [
      "Workspace name: udacity_ws\n",
      "Azure region: eastus\n",
      "Subscription id: 051560d6-9344-4907-a9c5-057add5cf030\n",
      "Resource group: udacity_rg\n"
     ]
    }
   ],
   "source": [
    "ws = Workspace.from_config()\n",
    "experiment_name = 'hyperdrive-exp'\n",
    "\n",
    "experiment = Experiment(ws, experiment_name)\n",
    "\n",
    "print('Workspace name: ' + ws.name, \n",
    "      'Azure region: ' + ws.location, \n",
    "      'Subscription id: ' + ws.subscription_id, \n",
    "      'Resource group: ' + ws.resource_group, sep = '\\n')\n",
    "\n",
    "run = experiment.start_logging()"
   ]
  },
  {
   "cell_type": "code",
   "execution_count": 4,
   "metadata": {},
   "outputs": [
    {
     "name": "stdout",
     "output_type": "stream",
     "text": [
      "Found existing compute target: aml-compute1\n"
     ]
    }
   ],
   "source": [
    "cluster_name = \"aml-compute1\"\n",
    "\n",
    "try:\n",
    "    compute_target = ComputeTarget(workspace=ws, name=cluster_name)\n",
    "    print(f\"Found existing compute target: {cluster_name}\")\n",
    "except ComputeTargetException:\n",
    "    print(f\"Creating new compute target: {cluster_name}\")\n",
    "    compute_config = AmlCompute.provisioning_configuration(\n",
    "        vm_size=\"Standard_DS3_v2\",\n",
    "        min_nodes=0,\n",
    "        max_nodes=4\n",
    "    )\n",
    "\n",
    "    compute_target = ComputeTarget.create(ws, cluster_name, compute_config)\n",
    "    compute_target.wait_for_completion(show_output=True)"
   ]
  },
  {
   "cell_type": "code",
   "execution_count": 6,
   "metadata": {},
   "outputs": [
    {
     "name": "stdout",
     "output_type": "stream",
     "text": [
      "Dataset 'denver-cpi' found and loaded.\n"
     ]
    }
   ],
   "source": [
    "import kagglehub\n",
    "from kagglehub import KaggleDatasetAdapter\n",
    "from azureml.core import Dataset\n",
    "import os\n",
    "\n",
    "dataset_name = 'denver-cpi'\n",
    "\n",
    "try : \n",
    "\n",
    "    ds = Dataset.get_by_name(ws, dataset_name)\n",
    "    print(f\"Dataset '{dataset_name}' found and loaded.\")\n",
    "    \n",
    "except Exception as e:\n",
    "    path = kagglehub.dataset_download(\"bls/denver-cpi\")\n",
    "    path = os.path.join(path, \"Consumer_Price_Index_in_Denver.csv\")\n",
    "    datastore = ws.get_default_datastore()\n",
    "    df = pd.read_csv(path)\n",
    "\n",
    "    ds = Dataset.Tabular.register_pandas_dataframe(\n",
    "            dataframe = df, \n",
    "            name=dataset_name,\n",
    "            description='CPI denver dataset',\n",
    "            target=datastore\n",
    "        )\n",
    "\n",
    "    # profile_run_config = DatasetProfileRunConfig(compute_target=compute_target)\n",
    "    # data_profile = DataProfile(profile_run_config)\n",
    "    # profile_result = data_profile.profile(ds)"
   ]
  },
  {
   "cell_type": "markdown",
   "metadata": {
    "collapsed": true,
    "gather": {
     "logged": 1598531923519
    },
    "jupyter": {
     "outputs_hidden": true,
     "source_hidden": false
    },
    "nteract": {
     "transient": {
      "deleting": false
     }
    }
   },
   "source": [
    "## Hyperdrive Configuration\n",
    "\n",
    "TODO: Explain the model you are using and the reason for chosing the different hyperparameters, termination policy and config settings."
   ]
  },
  {
   "cell_type": "code",
   "execution_count": 26,
   "metadata": {
    "collapsed": false,
    "gather": {
     "logged": 1598544893076
    },
    "jupyter": {
     "outputs_hidden": false,
     "source_hidden": false
    },
    "nteract": {
     "transient": {
      "deleting": false
     }
    }
   },
   "outputs": [],
   "source": [
    "early_termination_policy = BanditPolicy(evaluation_interval = 2, slack_factor= 0.1)\n",
    "\n",
    "param_sampling = RandomParameterSampling( {\n",
    "        \"n_estimators\": choice(25, 50, 75, 100),\n",
    "        \"max_depth\": choice(2, 3, 4),\n",
    "        \"min_samples_split\": choice(3, 4, 5),\n",
    "        \"learning_rate\": choice(0.1, 0.01)\n",
    "    }\n",
    ")\n",
    "\n",
    "sklearn_env = Environment.from_conda_specification(name='sklearn-env', file_path='sk_dep.yaml')\n",
    "\n",
    "src = ScriptRunConfig(\n",
    "    source_directory='.',\n",
    "    script='train.py',  \n",
    "    environment=sklearn_env, \n",
    "    compute_target = compute_target\n",
    ")\n",
    "\n",
    "hyperdrive_config = HyperDriveConfig(\n",
    "    run_config=src,\n",
    "    hyperparameter_sampling=param_sampling,\n",
    "    policy=early_termination_policy,\n",
    "    primary_metric_name='normalized_root_mean_squared_error',\n",
    "    primary_metric_goal=PrimaryMetricGoal.MINIMIZE,\n",
    "    max_total_runs=30,\n",
    "    max_concurrent_runs=4,\n",
    "    max_duration_minutes = 30\n",
    "    )"
   ]
  },
  {
   "cell_type": "code",
   "execution_count": 27,
   "metadata": {
    "collapsed": false,
    "gather": {
     "logged": 1598544897941
    },
    "jupyter": {
     "outputs_hidden": false,
     "source_hidden": false
    },
    "nteract": {
     "transient": {
      "deleting": false
     }
    }
   },
   "outputs": [],
   "source": [
    "hyperdrive_run = experiment.submit(hyperdrive_config)"
   ]
  },
  {
   "cell_type": "code",
   "execution_count": 33,
   "metadata": {},
   "outputs": [
    {
     "data": {
      "text/html": [
       "<table style=\"width:100%\"><tr><th>Experiment</th><th>Id</th><th>Type</th><th>Status</th><th>Details Page</th><th>Docs Page</th></tr><tr><td>hyperdrive-exp</td><td>HD_854e156b-ca56-4be2-abdf-f3f1f20da835</td><td>hyperdrive</td><td>Running</td><td><a href=\"https://ml.azure.com/runs/HD_854e156b-ca56-4be2-abdf-f3f1f20da835?wsid=/subscriptions/051560d6-9344-4907-a9c5-057add5cf030/resourcegroups/udacity_rg/workspaces/udacity_ws&amp;tid=a54ddfa5-3d29-437b-a420-b882e37e67e2\" target=\"_blank\" rel=\"noopener\">Link to Azure Machine Learning studio</a></td><td><a href=\"https://docs.microsoft.com/en-us/python/api/overview/azure/ml/intro?view=azure-ml-py\" target=\"_blank\" rel=\"noopener\">Link to Documentation</a></td></tr></table>"
      ],
      "text/plain": [
       "Run(Experiment: hyperdrive-exp,\n",
       "Id: HD_854e156b-ca56-4be2-abdf-f3f1f20da835,\n",
       "Type: hyperdrive,\n",
       "Status: Running)"
      ]
     },
     "execution_count": 33,
     "metadata": {},
     "output_type": "execute_result"
    }
   ],
   "source": [
    "hyperdrive_run"
   ]
  },
  {
   "cell_type": "markdown",
   "metadata": {
    "collapsed": true,
    "gather": {
     "logged": 1598544898497
    },
    "jupyter": {
     "outputs_hidden": true,
     "source_hidden": false
    },
    "nteract": {
     "transient": {
      "deleting": false
     }
    }
   },
   "source": [
    "## Run Details\n",
    "\n",
    "OPTIONAL: Write about the different models trained and their performance. Why do you think some models did better than others?\n",
    "\n",
    "TODO: In the cell below, use the `RunDetails` widget to show the different experiments."
   ]
  },
  {
   "cell_type": "code",
   "execution_count": 29,
   "metadata": {
    "collapsed": false,
    "gather": {
     "logged": 1598546648408
    },
    "jupyter": {
     "outputs_hidden": false,
     "source_hidden": false
    },
    "nteract": {
     "transient": {
      "deleting": false
     }
    }
   },
   "outputs": [],
   "source": [
    "# from azureml.widgets import RunDetails\n",
    "# RunDetails(hyperdrive_run).show()"
   ]
  },
  {
   "cell_type": "code",
   "execution_count": 34,
   "metadata": {},
   "outputs": [
    {
     "name": "stdout",
     "output_type": "stream",
     "text": [
      "Run ID: HD_854e156b-ca56-4be2-abdf-f3f1f20da835 | Status: Completed\n",
      "Run ID: HD_f714d873-1611-4c2f-8c3c-8968a470887d | Status: Failed\n",
      "Run ID: HD_e16e2ab0-055f-44f3-8d92-58f02a71c967 | Status: Failed\n",
      "Run ID: HD_b9983925-60f4-4148-842d-191405825f61 | Status: Failed\n",
      "Run ID: HD_e1d7a60e-c411-44d2-8a09-ac0637c3fd41 | Status: Failed\n",
      "Run ID: 058072b4-d40c-4714-b6be-5f179f0467f9 | Status: Running\n"
     ]
    }
   ],
   "source": [
    "for run in experiment.get_runs():\n",
    "    print(f\"Run ID: {run.id} | Status: {run.status}\")"
   ]
  },
  {
   "cell_type": "markdown",
   "metadata": {},
   "source": [
    "## Best Model\n",
    "\n",
    "TODO: In the cell below, get the best model from the hyperdrive experiments and display all the properties of the model."
   ]
  },
  {
   "cell_type": "code",
   "execution_count": 41,
   "metadata": {
    "collapsed": false,
    "gather": {
     "logged": 1598546650307
    },
    "jupyter": {
     "outputs_hidden": false,
     "source_hidden": false
    },
    "nteract": {
     "transient": {
      "deleting": false
     }
    }
   },
   "outputs": [
    {
     "name": "stdout",
     "output_type": "stream",
     "text": [
      "Best run ID: HD_854e156b-ca56-4be2-abdf-f3f1f20da835_24\n"
     ]
    },
    {
     "data": {
      "text/html": [
       "<table style=\"width:100%\"><tr><th>Experiment</th><th>Id</th><th>Type</th><th>Status</th><th>Details Page</th><th>Docs Page</th></tr><tr><td>hyperdrive-exp</td><td>HD_854e156b-ca56-4be2-abdf-f3f1f20da835_24</td><td>azureml.scriptrun</td><td>Completed</td><td><a href=\"https://ml.azure.com/runs/HD_854e156b-ca56-4be2-abdf-f3f1f20da835_24?wsid=/subscriptions/051560d6-9344-4907-a9c5-057add5cf030/resourcegroups/udacity_rg/workspaces/udacity_ws&amp;tid=a54ddfa5-3d29-437b-a420-b882e37e67e2\" target=\"_blank\" rel=\"noopener\">Link to Azure Machine Learning studio</a></td><td><a href=\"https://docs.microsoft.com/en-us/python/api/azureml-core/azureml.core.run.Run?view=azure-ml-py\" target=\"_blank\" rel=\"noopener\">Link to Documentation</a></td></tr></table>"
      ],
      "text/plain": [
       "Run(Experiment: hyperdrive-exp,\n",
       "Id: HD_854e156b-ca56-4be2-abdf-f3f1f20da835_24,\n",
       "Type: azureml.scriptrun,\n",
       "Status: Completed)"
      ]
     },
     "execution_count": 41,
     "metadata": {},
     "output_type": "execute_result"
    }
   ],
   "source": [
    "all_metrics = hyperdrive_run.get_metrics()\n",
    "\n",
    "best_run_id = min(\n",
    "    all_metrics.items(),\n",
    "    key=lambda x: x[1].get('MSE', float('inf'))\n",
    ")[0]\n",
    "\n",
    "print(\"Best run ID:\", best_run_id)\n",
    "\n",
    "best_run = Run(experiment=hyperdrive_run.experiment, run_id=best_run_id)\n",
    "best_run"
   ]
  },
  {
   "cell_type": "code",
   "execution_count": 42,
   "metadata": {
    "collapsed": false,
    "gather": {
     "logged": 1598546657829
    },
    "jupyter": {
     "outputs_hidden": false,
     "source_hidden": false
    },
    "nteract": {
     "transient": {
      "deleting": false
     }
    }
   },
   "outputs": [
    {
     "name": "stdout",
     "output_type": "stream",
     "text": [
      "max_depth:: 4\n",
      "min_samples_split:: 4\n",
      "n_estimators:: 100\n",
      "learning_rate:: 0.1\n",
      "MSE: 2.2483377766399393\n"
     ]
    }
   ],
   "source": [
    "metrics = best_run.get_metrics()\n",
    "for key, value in metrics.items():\n",
    "    print(f\"{key}: {value}\")"
   ]
  },
  {
   "cell_type": "markdown",
   "metadata": {
    "collapsed": true,
    "jupyter": {
     "outputs_hidden": true,
     "source_hidden": false
    },
    "nteract": {
     "transient": {
      "deleting": false
     }
    }
   },
   "source": [
    "## Model Deployment\n",
    "\n",
    "Remember you have to deploy only one of the two models you trained but you still need to register both the models. Perform the steps in the rest of this notebook only if you wish to deploy this model.\n",
    "\n",
    "TODO: In the cell below, register the model, create an inference config and deploy the model as a web service."
   ]
  },
  {
   "cell_type": "code",
   "execution_count": 45,
   "metadata": {},
   "outputs": [
    {
     "data": {
      "text/plain": [
       "Model(workspace=Workspace.create(name='udacity_ws', subscription_id='051560d6-9344-4907-a9c5-057add5cf030', resource_group='udacity_rg'), name=hyperdrive_model, id=hyperdrive_model:1, version=1, tags={}, properties={})"
      ]
     },
     "execution_count": 45,
     "metadata": {},
     "output_type": "execute_result"
    }
   ],
   "source": [
    "model = best_run.register_model(model_name='hyperdrive_model', model_path='.')\n",
    "model"
   ]
  },
  {
   "cell_type": "markdown",
   "metadata": {},
   "source": [
    "TODO: In the cell below, send a request to the web service you deployed to test it."
   ]
  },
  {
   "cell_type": "code",
   "execution_count": null,
   "metadata": {},
   "outputs": [],
   "source": []
  },
  {
   "cell_type": "markdown",
   "metadata": {},
   "source": [
    "TODO: In the cell below, print the logs of the web service and delete the service"
   ]
  },
  {
   "cell_type": "code",
   "execution_count": null,
   "metadata": {},
   "outputs": [],
   "source": []
  },
  {
   "cell_type": "markdown",
   "metadata": {},
   "source": [
    "**Submission Checklist**\n",
    "- I have registered the model.\n",
    "- I have deployed the model with the best accuracy as a webservice.\n",
    "- I have tested the webservice by sending a request to the model endpoint.\n",
    "- I have deleted the webservice and shutdown all the computes that I have used.\n",
    "- I have taken a screenshot showing the model endpoint as active.\n",
    "- The project includes a file containing the environment details.\n",
    "\n"
   ]
  },
  {
   "cell_type": "markdown",
   "metadata": {},
   "source": []
  }
 ],
 "metadata": {
  "kernel_info": {
   "name": "python3-azureml"
  },
  "kernelspec": {
   "display_name": "Python 3.10 - AzureML",
   "language": "python",
   "name": "python38-azureml"
  },
  "language_info": {
   "codemirror_mode": {
    "name": "ipython",
    "version": 3
   },
   "file_extension": ".py",
   "mimetype": "text/x-python",
   "name": "python",
   "nbconvert_exporter": "python",
   "pygments_lexer": "ipython3",
   "version": "3.10.11"
  },
  "nteract": {
   "version": "nteract-front-end@1.0.0"
  }
 },
 "nbformat": 4,
 "nbformat_minor": 4
}
