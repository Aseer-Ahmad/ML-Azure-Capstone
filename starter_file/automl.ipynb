{
 "cells": [
  {
   "cell_type": "markdown",
   "metadata": {},
   "source": [
    "# Automated ML\n",
    "\n",
    "TODO: Import Dependencies. In the cell below, import all the dependencies that you will need to complete the project."
   ]
  },
  {
   "cell_type": "code",
   "execution_count": null,
   "metadata": {},
   "outputs": [
    {
     "name": "stdout",
     "output_type": "stream",
     "text": [
      "Requirement already satisfied: kagglehub[pandas-datasets] in /anaconda/envs/azureml_py38/lib/python3.10/site-packages (0.3.12)\n",
      "Requirement already satisfied: tqdm in /anaconda/envs/azureml_py38/lib/python3.10/site-packages (from kagglehub[pandas-datasets]) (4.67.1)\n",
      "Requirement already satisfied: packaging in /anaconda/envs/azureml_py38/lib/python3.10/site-packages (from kagglehub[pandas-datasets]) (25.0)\n",
      "Requirement already satisfied: pyyaml in /anaconda/envs/azureml_py38/lib/python3.10/site-packages (from kagglehub[pandas-datasets]) (6.0.2)\n",
      "Requirement already satisfied: requests in /anaconda/envs/azureml_py38/lib/python3.10/site-packages (from kagglehub[pandas-datasets]) (2.32.3)\n",
      "Requirement already satisfied: pandas in /anaconda/envs/azureml_py38/lib/python3.10/site-packages (from kagglehub[pandas-datasets]) (1.5.3)\n",
      "Requirement already satisfied: pytz>=2020.1 in /anaconda/envs/azureml_py38/lib/python3.10/site-packages (from pandas->kagglehub[pandas-datasets]) (2022.5)\n",
      "Requirement already satisfied: python-dateutil>=2.8.1 in /anaconda/envs/azureml_py38/lib/python3.10/site-packages (from pandas->kagglehub[pandas-datasets]) (2.9.0.post0)\n",
      "Requirement already satisfied: numpy>=1.21.0 in /anaconda/envs/azureml_py38/lib/python3.10/site-packages (from pandas->kagglehub[pandas-datasets]) (1.23.5)\n",
      "Requirement already satisfied: certifi>=2017.4.17 in /anaconda/envs/azureml_py38/lib/python3.10/site-packages (from requests->kagglehub[pandas-datasets]) (2025.1.31)\n",
      "Requirement already satisfied: charset-normalizer<4,>=2 in /anaconda/envs/azureml_py38/lib/python3.10/site-packages (from requests->kagglehub[pandas-datasets]) (3.4.1)\n",
      "Requirement already satisfied: urllib3<3,>=1.21.1 in /anaconda/envs/azureml_py38/lib/python3.10/site-packages (from requests->kagglehub[pandas-datasets]) (1.26.20)\n",
      "Requirement already satisfied: idna<4,>=2.5 in /anaconda/envs/azureml_py38/lib/python3.10/site-packages (from requests->kagglehub[pandas-datasets]) (3.10)\n",
      "Requirement already satisfied: six>=1.5 in /anaconda/envs/azureml_py38/lib/python3.10/site-packages (from python-dateutil>=2.8.1->pandas->kagglehub[pandas-datasets]) (1.17.0)\n"
     ]
    }
   ],
   "source": [
    "!pip install kagglehub[pandas-datasets]"
   ]
  },
  {
   "cell_type": "code",
   "execution_count": 1,
   "metadata": {
    "collapsed": false,
    "gather": {
     "logged": 1598423888013
    },
    "jupyter": {
     "outputs_hidden": false,
     "source_hidden": false
    },
    "nteract": {
     "transient": {
      "deleting": false
     }
    }
   },
   "outputs": [],
   "source": [
    "from azureml.core import Workspace, Experiment\n",
    "from azureml.core.compute import ComputeTarget, AmlCompute\n",
    "from azureml.core.compute_target import ComputeTargetException\n",
    "from azureml.train.automl import AutoMLConfig\n",
    "\n",
    "from azureml.core.environment import Environment\n",
    "from azureml.core.model import InferenceConfig\n",
    "from azureml.core.model import Model\n",
    "from azureml.core.webservice import AciWebservice, Webservice\n",
    "from azureml.core import Dataset\n",
    "\n",
    "from azureml.core.compute import ComputeTarget, AmlCompute\n",
    "from azureml.core.compute_target import ComputeTargetException\n",
    "\n",
    "import pandas as pd\n",
    "\n",
    "import os\n",
    "# import kagglehub\n",
    "# from azureml.data.dataset_profile import DataProfile\n",
    "# from azureml.data.dataset_profile.run_config import DatasetProfileRunConfig"
   ]
  },
  {
   "cell_type": "markdown",
   "metadata": {},
   "source": [
    "\n",
    "## Dataset\n",
    "\n",
    "### Overview\n",
    "TODO: In this markdown cell, give an overview of the dataset you are using. Also mention the task you will be performing.\n",
    "\n",
    "\n",
    "TODO: Get data. In the cell below, write code to access the data you will be using in this project. Remember that the dataset needs to be external."
   ]
  },
  {
   "cell_type": "code",
   "execution_count": 3,
   "metadata": {
    "collapsed": false,
    "gather": {
     "logged": 1598423890461
    },
    "jupyter": {
     "outputs_hidden": false,
     "source_hidden": false
    },
    "nteract": {
     "transient": {
      "deleting": false
     }
    }
   },
   "outputs": [
    {
     "name": "stdout",
     "output_type": "stream",
     "text": [
      "Workspace name: udacity_ws\n",
      "Azure region: eastus\n",
      "Subscription id: 051560d6-9344-4907-a9c5-057add5cf030\n",
      "Resource group: udacity_rg\n"
     ]
    }
   ],
   "source": [
    "ws = Workspace.from_config()\n",
    "\n",
    "experiment_name = 'automl-exp'\n",
    "\n",
    "experiment=Experiment(ws, experiment_name)\n",
    "\n",
    "print('Workspace name: ' + ws.name, \n",
    "      'Azure region: ' + ws.location, \n",
    "      'Subscription id: ' + ws.subscription_id, \n",
    "      'Resource group: ' + ws.resource_group, sep = '\\n')\n",
    "\n",
    "run = experiment.start_logging()"
   ]
  },
  {
   "cell_type": "code",
   "execution_count": 3,
   "metadata": {},
   "outputs": [
    {
     "name": "stdout",
     "output_type": "stream",
     "text": [
      "Found existing compute target: aml-compute1\n"
     ]
    }
   ],
   "source": [
    "cluster_name = \"aml-compute1\"\n",
    "\n",
    "try:\n",
    "    compute_target = ComputeTarget(workspace=ws, name=cluster_name)\n",
    "    print(f\"Found existing compute target: {cluster_name}\")\n",
    "except ComputeTargetException:\n",
    "    print(f\"Creating new compute target: {cluster_name}\")\n",
    "    compute_config = AmlCompute.provisioning_configuration(\n",
    "        vm_size=\"Standard_DS3_v2\",\n",
    "        min_nodes=0,\n",
    "        max_nodes=4\n",
    "    )\n",
    "\n",
    "    compute_target = ComputeTarget.create(ws, cluster_name, compute_config)\n",
    "    compute_target.wait_for_completion(show_output=True)"
   ]
  },
  {
   "cell_type": "code",
   "execution_count": 5,
   "metadata": {},
   "outputs": [],
   "source": [
    "def clean_df(df):\n",
    "\n",
    "    ptd = pd.get_dummies(df.periodTypeDescription, \"ptd\")\n",
    "    df.drop(\"periodTypeDescription\", inplace=True, axis=1)\n",
    "    df = df.join(ptd)\n",
    "\n",
    "    dr = pd.get_dummies(df.dataRegion, \"dr\")\n",
    "    df.drop(\"dataRegion\", inplace=True, axis=1)\n",
    "    df = df.join(dr)\n",
    "\n",
    "    an = pd.get_dummies(df.areaName, \"an\")\n",
    "    df.drop(\"areaName\", inplace=True, axis=1)\n",
    "    df = df.join(an)\n",
    "\n",
    "    df.drop(\"title\", inplace=True, axis=1)\n",
    "    df.drop(\"areaDescription\", inplace=True, axis=1)\n",
    "    df.drop(\"cpiSourceDescription\", inplace=True, axis=1)\n",
    "    \n",
    "    return df"
   ]
  },
  {
   "cell_type": "code",
   "execution_count": 13,
   "metadata": {},
   "outputs": [
    {
     "name": "stdout",
     "output_type": "stream",
     "text": [
      "downloading dataset\n",
      "read dataset\n",
      "(4349, 17)\n",
      "cleaned dataset\n",
      "Validating arguments.\n",
      "Arguments validated.\n",
      "Validating arguments.\n",
      "Arguments validated.\n",
      "'overwrite' is set to True. Any file already present in the target will be overwritten.\n",
      "Uploading files from '/tmp/tmphxw3t4bw' to 'managed-dataset/be019c32-5e39-4a1a-b127-1ff8c5ae7518/'\n",
      "Copying 1 files with concurrency set to 1\n",
      "Copied /tmp/tmphxw3t4bw/dataframe.parquet, file 1 out of 1. Destination path: https://udacityws6195221394.blob.core.windows.net/azureml-blobstore-c25467c7-a099-4be5-9286-b43241d0e0c0/managed-dataset/be019c32-5e39-4a1a-b127-1ff8c5ae7518/dataframe.parquet\n",
      "Successfully uploaded file to datastore.\n",
      "Creating and registering a new dataset.\n",
      "Files copied=1, skipped=0, failed=0\n",
      "Successfully created and registered a new dataset.\n",
      "registered dataset\n"
     ]
    }
   ],
   "source": [
    "dataset_name = 'denver-cpi'\n",
    "\n",
    "try : \n",
    "\n",
    "    ds = Dataset.get_by_name(ws, dataset_name)\n",
    "    print(f\"Dataset '{dataset_name}' found and loaded.\")\n",
    "    \n",
    "except Exception as e:\n",
    "    print(\"downloading dataset\")\n",
    "    path = kagglehub.dataset_download(\"bls/denver-cpi\")\n",
    "    path = os.path.join(path, \"Consumer_Price_Index_in_Denver.csv\")\n",
    "    datastore = ws.get_default_datastore()\n",
    "    df = pd.read_csv(path)\n",
    "    print(\"read dataset\")\n",
    "    print(df.shape)\n",
    "    df = clean_df(df)\n",
    "    print(\"cleaned dataset\")\n",
    "\n",
    "    ds = Dataset.Tabular.register_pandas_dataframe(\n",
    "            dataframe = df, \n",
    "            name=dataset_name,\n",
    "            description='CPI denver dataset',\n",
    "            target=datastore\n",
    "        )\n",
    "    print(\"registered dataset\")\n",
    "\n",
    "    # profile_run_config = DatasetProfileRunConfig(compute_target=compute_target)\n",
    "    # data_profile = DataProfile(profile_run_config)\n",
    "    # profile_result = data_profile.profile(ds)\n",
    "    # print(\"profiled dataset\")\n"
   ]
  },
  {
   "cell_type": "markdown",
   "metadata": {},
   "source": [
    "## AutoML Configuration\n",
    "\n",
    "experiment_timeout_hours is set to low to limit cost <br> \n",
    "enable_early_stopping saves compute and avoids overtraining <br>\n",
    "iteration_timeout_minutes avoids overly long-running iterations like deep ensembles <br>\n",
    "max_concurrent_iterations is based on my compute target. "
   ]
  },
  {
   "cell_type": "code",
   "execution_count": 14,
   "metadata": {
    "collapsed": false,
    "gather": {
     "logged": 1598429217746
    },
    "jupyter": {
     "outputs_hidden": false,
     "source_hidden": false
    },
    "nteract": {
     "transient": {
      "deleting": false
     }
    }
   },
   "outputs": [],
   "source": [
    "automl_settings = {\n",
    "    \"experiment_timeout_hours\" : 0.2,\n",
    "    \"enable_early_stopping\" : True,\n",
    "    \"iteration_timeout_minutes\" : 5,\n",
    "    \"max_concurrent_iterations\" : 3,\n",
    "}\n",
    "\n",
    "automl_config = AutoMLConfig(\n",
    "    experiment_timeout_minutes=30,\n",
    "    task=\"regression\",\n",
    "    primary_metric=\"normalized_root_mean_squared_error\",\n",
    "    training_data = ds,\n",
    "    label_column_name=\"cpi\",\n",
    "    n_cross_validations=3,\n",
    "    compute_target=compute_target,\n",
    "    **automl_settings)"
   ]
  },
  {
   "cell_type": "code",
   "execution_count": 15,
   "metadata": {
    "collapsed": false,
    "gather": {
     "logged": 1598431107951
    },
    "jupyter": {
     "outputs_hidden": false,
     "source_hidden": false
    },
    "nteract": {
     "transient": {
      "deleting": false
     }
    }
   },
   "outputs": [
    {
     "name": "stdout",
     "output_type": "stream",
     "text": [
      "Submitting remote run.\n"
     ]
    },
    {
     "data": {
      "text/html": [
       "<table style=\"width:100%\"><tr><th>Experiment</th><th>Id</th><th>Type</th><th>Status</th><th>Details Page</th><th>Docs Page</th></tr><tr><td>automl-exp</td><td>AutoML_7d8d3092-e927-4148-90a6-69921bed2bea</td><td>automl</td><td>NotStarted</td><td><a href=\"https://ml.azure.com/runs/AutoML_7d8d3092-e927-4148-90a6-69921bed2bea?wsid=/subscriptions/051560d6-9344-4907-a9c5-057add5cf030/resourcegroups/udacity_rg/workspaces/udacity_ws&amp;tid=a54ddfa5-3d29-437b-a420-b882e37e67e2\" target=\"_blank\" rel=\"noopener\">Link to Azure Machine Learning studio</a></td><td><a href=\"https://docs.microsoft.com/en-us/python/api/overview/azure/ml/intro?view=azure-ml-py\" target=\"_blank\" rel=\"noopener\">Link to Documentation</a></td></tr></table>"
      ]
     },
     "metadata": {},
     "output_type": "display_data"
    }
   ],
   "source": [
    "remote_run = experiment.submit(automl_config)"
   ]
  },
  {
   "cell_type": "markdown",
   "metadata": {},
   "source": [
    "## Run Details\n",
    "\n",
    "OPTIONAL: Write about the different models trained and their performance. Why do you think some models did better than others?\n",
    "\n",
    "TODO: In the cell below, use the `RunDetails` widget to show the different experiments."
   ]
  },
  {
   "cell_type": "code",
   "execution_count": null,
   "metadata": {
    "collapsed": false,
    "gather": {
     "logged": 1598431121770
    },
    "jupyter": {
     "outputs_hidden": false,
     "source_hidden": false
    },
    "nteract": {
     "transient": {
      "deleting": false
     }
    }
   },
   "outputs": [],
   "source": [
    "# from azureml.widgets import RunDetails\n",
    "# RunDetails(remote_run).show()"
   ]
  },
  {
   "cell_type": "code",
   "execution_count": 49,
   "metadata": {},
   "outputs": [
    {
     "name": "stdout",
     "output_type": "stream",
     "text": [
      "Run ID: 1f27a776-0f23-47c2-8ca8-dcaf690fe016 | Status: Running\n",
      "Run ID: eb56ee6d-296b-413f-b521-23d5df1b26da | Status: Running\n",
      "Run ID: AutoML_7d8d3092-e927-4148-90a6-69921bed2bea | Status: Completed\n",
      "Run ID: AutoML_198314eb-df85-45a2-9320-928a203f3bcf | Status: Canceled\n",
      "Run ID: 945f3304-4943-468a-ba78-e91d3ec01a65 | Status: Running\n"
     ]
    }
   ],
   "source": [
    "experiment = Experiment(workspace=ws, name='automl-exp')\n",
    "for run in experiment.get_runs():\n",
    "    print(f\"Run ID: {run.id} | Status: {run.status}\")"
   ]
  },
  {
   "cell_type": "markdown",
   "metadata": {},
   "source": [
    "## Best Model\n",
    "\n",
    "TODO: In the cell below, get the best model from the automl experiments and display all the properties of the model.\n",
    "\n"
   ]
  },
  {
   "cell_type": "code",
   "execution_count": 18,
   "metadata": {
    "collapsed": false,
    "gather": {
     "logged": 1598431425670
    },
    "jupyter": {
     "outputs_hidden": false,
     "source_hidden": false
    },
    "nteract": {
     "transient": {
      "deleting": false
     }
    }
   },
   "outputs": [],
   "source": [
    "best_run = remote_run.get_best_child()"
   ]
  },
  {
   "cell_type": "code",
   "execution_count": 19,
   "metadata": {
    "scrolled": true
   },
   "outputs": [
    {
     "data": {
      "text/html": [
       "<table style=\"width:100%\"><tr><th>Experiment</th><th>Id</th><th>Type</th><th>Status</th><th>Details Page</th><th>Docs Page</th></tr><tr><td>automl-exp</td><td>AutoML_7d8d3092-e927-4148-90a6-69921bed2bea_34</td><td>azureml.scriptrun</td><td>Completed</td><td><a href=\"https://ml.azure.com/runs/AutoML_7d8d3092-e927-4148-90a6-69921bed2bea_34?wsid=/subscriptions/051560d6-9344-4907-a9c5-057add5cf030/resourcegroups/udacity_rg/workspaces/udacity_ws&amp;tid=a54ddfa5-3d29-437b-a420-b882e37e67e2\" target=\"_blank\" rel=\"noopener\">Link to Azure Machine Learning studio</a></td><td><a href=\"https://docs.microsoft.com/en-us/python/api/azureml-core/azureml.core.run.Run?view=azure-ml-py\" target=\"_blank\" rel=\"noopener\">Link to Documentation</a></td></tr></table>"
      ],
      "text/plain": [
       "Run(Experiment: automl-exp,\n",
       "Id: AutoML_7d8d3092-e927-4148-90a6-69921bed2bea_34,\n",
       "Type: azureml.scriptrun,\n",
       "Status: Completed)"
      ]
     },
     "execution_count": 19,
     "metadata": {},
     "output_type": "execute_result"
    }
   ],
   "source": [
    "best_run"
   ]
  },
  {
   "cell_type": "code",
   "execution_count": 22,
   "metadata": {},
   "outputs": [
    {
     "name": "stdout",
     "output_type": "stream",
     "text": [
      "median_absolute_error: 0.14155778017911422\n",
      "normalized_root_mean_squared_log_error: 0.002402851691255647\n",
      "explained_variance: 0.9996864204443777\n",
      "normalized_median_absolute_error: 0.0002960363634786161\n",
      "root_mean_squared_error: 1.3089292727085868\n",
      "mean_absolute_percentage_error: 0.5299205139285355\n",
      "r2_score: 0.999686094900372\n",
      "spearman_correlation: 0.9998260321529827\n",
      "mean_absolute_error: 0.43364264216952003\n",
      "normalized_mean_absolute_error: 0.0009068663741031458\n",
      "root_mean_squared_log_error: 0.009183380023524366\n",
      "normalized_root_mean_squared_error: 0.0027373321441821474\n",
      "predicted_true: aml://artifactId/ExperimentRun/dcid.AutoML_7d8d3092-e927-4148-90a6-69921bed2bea_34/predicted_true\n",
      "residuals: aml://artifactId/ExperimentRun/dcid.AutoML_7d8d3092-e927-4148-90a6-69921bed2bea_34/residuals\n"
     ]
    }
   ],
   "source": [
    "metrics = best_run.get_metrics()\n",
    "for key, value in metrics.items():\n",
    "    print(f\"{key}: {value}\")"
   ]
  },
  {
   "cell_type": "markdown",
   "metadata": {},
   "source": [
    "## Model Deployment\n",
    "\n",
    "Remember you have to deploy only one of the two models you trained but you still need to register both the models. Perform the steps in the rest of this notebook only if you wish to deploy this model.\n",
    "\n",
    "TODO: In the cell below, register the model, create an inference config and deploy the model as a web service."
   ]
  },
  {
   "cell_type": "code",
   "execution_count": null,
   "metadata": {},
   "outputs": [],
   "source": [
    "model = best_run.register_model(model_name='automl_best_model', model_path='outputs/model.pkl')"
   ]
  },
  {
   "cell_type": "code",
   "execution_count": null,
   "metadata": {},
   "outputs": [],
   "source": [
    "env = Environment.from_conda_specification(name=\"my-env\",file_path=\"env.yaml\")\n",
    "inference_config = InferenceConfig(entry_script=\"score.py\", environment=env)\n",
    "\n",
    "deployment_config = AciWebservice.deploy_configuration(cpu_cores=1, memory_gb= 4, auth_enabled = True)\n",
    "\n",
    "service = Model.deploy(\n",
    "    workspace = ws,\n",
    "    name=\"automl-model-ws\",\n",
    "    models=[model],\n",
    "    inference_config=inference_config,\n",
    "    deployment_config=deployment_config,\n",
    "    overwrite=True\n",
    ")\n",
    "\n",
    "service.wait_for_deployment(show_output=True)"
   ]
  },
  {
   "cell_type": "markdown",
   "metadata": {
    "collapsed": true,
    "gather": {
     "logged": 1598431657736
    },
    "jupyter": {
     "outputs_hidden": true,
     "source_hidden": false
    },
    "nteract": {
     "transient": {
      "deleting": false
     }
    }
   },
   "source": [
    "TODO: In the cell below, send a request to the web service you deployed to test it."
   ]
  },
  {
   "cell_type": "code",
   "execution_count": 40,
   "metadata": {
    "collapsed": false,
    "gather": {
     "logged": 1598432707604
    },
    "jupyter": {
     "outputs_hidden": false,
     "source_hidden": false
    },
    "nteract": {
     "transient": {
      "deleting": false
     }
    }
   },
   "outputs": [
    {
     "name": "stdout",
     "output_type": "stream",
     "text": [
      "b'{\"Results\": [9.953594814647328]}'\n"
     ]
    }
   ],
   "source": [
    "import urllib.request\n",
    "import json\n",
    "\n",
    "data = {\n",
    "  \"Inputs\": {\n",
    "    \"data\": [\n",
    "      {\n",
    "        \"stateFips\": 0,\n",
    "        \"area\": 0,\n",
    "        \"areaType\": 0,\n",
    "        \"period\": 0,\n",
    "        \"periodYear\": 0,\n",
    "        \"periodType\": 0,\n",
    "        \"type\": 0,\n",
    "        \"source\": 0,\n",
    "        \"percentChangeYear\": 0,\n",
    "        \"percentChangeMonth\": 0,\n",
    "        \"ptd_Annual\": 0,\n",
    "        \"ptd_Monthly\": 0,\n",
    "        \"ptd_Semi-Annual\": 0,\n",
    "        \"dr_CO\": 0,\n",
    "        \"dr_US\": 0,\n",
    "        \"an_Denver/Boulder/Greeley\": 0,\n",
    "        \"an_United States\": 0\n",
    "      }\n",
    "    ]\n",
    "  },\n",
    "  \"GlobalParameters\": 1\n",
    "}\n",
    "\n",
    "body = str.encode(json.dumps(data))\n",
    "\n",
    "url = 'http://218198b9-6ccc-4d0d-9619-0bcd0a37468c.eastus.azurecontainer.io/score'\n",
    "api_key = os.getenv(\"AUTO_ML_API_KEY\")\n",
    "if not api_key:\n",
    "    raise Exception(\"A key should be provided to invoke the endpoint\")\n",
    "\n",
    "headers = {'Content-Type':'application/json', 'Accept': 'application/json', 'Authorization':('Bearer '+ api_key)}\n",
    "req = urllib.request.Request(url, body, headers)"
   ]
  },
  {
   "cell_type": "markdown",
   "metadata": {
    "collapsed": true,
    "gather": {
     "logged": 1598432765711
    },
    "jupyter": {
     "outputs_hidden": true,
     "source_hidden": false
    },
    "nteract": {
     "transient": {
      "deleting": false
     }
    }
   },
   "source": [
    "TODO: In the cell below, print the logs of the web service and delete the service"
   ]
  },
  {
   "cell_type": "code",
   "execution_count": 45,
   "metadata": {
    "collapsed": false,
    "jupyter": {
     "outputs_hidden": false,
     "source_hidden": false
    },
    "nteract": {
     "transient": {
      "deleting": false
     }
    }
   },
   "outputs": [
    {
     "name": "stdout",
     "output_type": "stream",
     "text": [
      "b'{\"Results\": [9.953594814647328]}'\n"
     ]
    }
   ],
   "source": [
    "try:\n",
    "    response = urllib.request.urlopen(req)\n",
    "    result = response.read()\n",
    "    print(result)\n",
    "except urllib.error.HTTPError as error:\n",
    "    print(\"The request failed with status code: \" + str(error.code))\n",
    "    print(error.info())\n",
    "    print(error.read().decode(\"utf8\", 'ignore'))"
   ]
  },
  {
   "cell_type": "code",
   "execution_count": 46,
   "metadata": {},
   "outputs": [
    {
     "name": "stdout",
     "output_type": "stream",
     "text": [
      "AciWebservice(workspace=Workspace.create(name='udacity_ws', subscription_id='051560d6-9344-4907-a9c5-057add5cf030', resource_group='udacity_rg'), name=automl-model-ws, image_id=None, image_digest=None, compute_type=ACI, state=Healthy, scoring_uri=http://218198b9-6ccc-4d0d-9619-0bcd0a37468c.eastus.azurecontainer.io/score, tags={}, properties={'runId': 'AutoML_7d8d3092-e927-4148-90a6-69921bed2bea_34', 'hasInferenceSchema': 'True', 'hasHttps': 'False', 'authEnabled': 'True'}, created_by={'userObjectId': 'fe75403a-f3c0-4149-ba5e-7607c21d4f2b', 'userPuId': '10032004C429A1AA', 'userIdp': 'live.com', 'userAltSecId': '1:live.com:00037FFF9AAB24E8', 'userIss': 'https://sts.windows.net/a54ddfa5-3d29-437b-a420-b882e37e67e2/', 'userTenantId': 'a54ddfa5-3d29-437b-a420-b882e37e67e2', 'userName': 'Aseer Ahmad Ansari', 'upn': None})\n"
     ]
    }
   ],
   "source": [
    "service = Webservice(workspace=ws, name='automl-model-ws')\n",
    "print(service)"
   ]
  },
  {
   "cell_type": "code",
   "execution_count": null,
   "metadata": {},
   "outputs": [],
   "source": [
    "service.delete()\n",
    "print(\"Web service deleted.\")"
   ]
  },
  {
   "cell_type": "markdown",
   "metadata": {},
   "source": [
    "**Submission Checklist**\n",
    "- I have registered the model.\n",
    "- I have deployed the model with the best accuracy as a webservice.\n",
    "- I have tested the webservice by sending a request to the model endpoint.\n",
    "- I have deleted the webservice and shutdown all the computes that I have used.\n",
    "- I have taken a screenshot showing the model endpoint as active.\n",
    "- The project includes a file containing the environment details.\n"
   ]
  },
  {
   "cell_type": "markdown",
   "metadata": {},
   "source": []
  }
 ],
 "metadata": {
  "kernel_info": {
   "name": "python3-azureml"
  },
  "kernelspec": {
   "display_name": "Python 3",
   "language": "python",
   "name": "python3"
  },
  "language_info": {
   "codemirror_mode": {
    "name": "ipython",
    "version": 3
   },
   "file_extension": ".py",
   "mimetype": "text/x-python",
   "name": "python",
   "nbconvert_exporter": "python",
   "pygments_lexer": "ipython3",
   "version": "3.10.4"
  },
  "nteract": {
   "version": "nteract-front-end@1.0.0"
  }
 },
 "nbformat": 4,
 "nbformat_minor": 4
}
